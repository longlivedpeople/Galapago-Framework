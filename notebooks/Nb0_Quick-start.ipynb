{
 "cells": [
  {
   "cell_type": "markdown",
   "metadata": {},
   "source": [
    "# Notebook 0: Quick start, plotting with Galapago in a nutshell\n",
    "\n",
    "In this notebook you can find an example of how to fill a simple histogram and then plot it with the Galapago modules. This is usually done in two separate steps with ```fillPlots.py``` script for the filling step, and with the ```harvesting_*.py``` scripts for the harvesting step."
   ]
  },
  {
   "cell_type": "markdown",
   "metadata": {},
   "source": [
    "## 0.0 - Setting the environment\n",
    "\n",
    "We first move our location to the parent directory to import every thing we need"
   ]
  },
  {
   "cell_type": "code",
   "execution_count": 2,
   "metadata": {},
   "outputs": [],
   "source": [
    "import os\n",
    "\n",
    "if 'notebooks' in os.getcwd():\n",
    "    os.chdir('..')"
   ]
  },
  {
   "cell_type": "code",
   "execution_count": 3,
   "metadata": {},
   "outputs": [],
   "source": [
    "import ROOT as r\n",
    "from   ROOT import gROOT, TCanvas, TFile, TGraphErrors, SetOwnership\n",
    "import math, sys, optparse, array, copy\n",
    "import gc, inspect, __main__\n",
    "import numpy as np\n",
    "import time\n",
    "\n",
    "import include.Sample as Sample\n",
    "import include.Launcher as Launcher\n",
    "import include.helper as helper\n",
    "import include.Canvas as Canvas\n",
    "import include.CutManager as CutManager\n"
   ]
  },
  {
   "cell_type": "markdown",
   "metadata": {},
   "source": [
    "We also set the TDR style in the plots we will make by loading the tdrstyle cpp macro:"
   ]
  },
  {
   "cell_type": "code",
   "execution_count": 3,
   "metadata": {},
   "outputs": [],
   "source": [
    "r.gROOT.LoadMacro('include/tdrstyle.C+')\n",
    "r.gROOT.SetBatch(1)\n",
    "r.setTDRStyle()"
   ]
  },
  {
   "cell_type": "markdown",
   "metadata": {},
   "source": [
    "## 0.1 - Filling step\n",
    "\n",
    "We select the .dat file where the samples and their location (together with xsection, colors... etc) are specified, in this case ```dat/Samples_cern_fillingv2.dat```.\n",
    "\n",
    "In order to select which samples are going to fill the histograms, we need to create a list containing the names to be given later as an input. In this example, we will only loop over the events of one of the H->XX mass points: mH = 1000 GeV, mX = 150 GeV, ctau = 100 mm. The name of this sample is refered in the .dat file as ```'HXX_1000_150_100mm'```\n",
    "\n",
    "We choose the integrated luminosity which we want to wieght the events to."
   ]
  },
  {
   "cell_type": "code",
   "execution_count": 4,
   "metadata": {},
   "outputs": [],
   "source": [
    "filename = 'dat/Samples_cern_fillingv2.dat' # .dat file\n",
    "\n",
    "Signals = [] # sample list\n",
    "Signals.append('HXX_1000_150_100mm')\n",
    "\n",
    "lumi = 35.87 # integrated luminosity"
   ]
  },
  {
   "cell_type": "markdown",
   "metadata": {},
   "source": [
    "The samples are handled with instances of the python ```Tree``` class, defined in ```include/Sample.py```. This class reads a certain .dat file, the list with the selected samples, and manages the information.\n",
    "\n",
    "<strong>Note</strong>: the ```name``` of the Tree instance is an identifier. ```isdata``` needs to be set to ```False``` in case of Monte Carlo samples in order to apply the appropriate weighting of the histograms."
   ]
  },
  {
   "cell_type": "code",
   "execution_count": 6,
   "metadata": {},
   "outputs": [
    {
     "name": "stdout",
     "output_type": "stream",
     "text": [
      "selectSamples for  SI : List Of Samples: ['HXX_1000_150_100mm']\n",
      "---> Found a match for HXX_1000_150_100mm : HXX_1000_150_100mm   HXX(1000,150,100) /eos/user/f/fernance/LLP_Analysis/NTuples/2016_v3/HXX_1000_150_100mm/ 0.7739 , matchesName_= True , matchesRegExp True\n"
     ]
    }
   ],
   "source": [
    "treeSI = Sample.Tree( fileName = helper.selectSamples(filename, Signals, 'SI'), name = 'SI', isdata = 0 )"
   ]
  },
  {
   "cell_type": "markdown",
   "metadata": {},
   "source": [
    "The filled histograms will be writen in a ```.root``` file in the specified directory. In this example, the output files are stored in the ```output_histograms/``` dir, which is created first.\n",
    "\n",
    "The ```Tree.Loop()``` function loops over the samples selected when declaring the Tree and fills a set of predefined histograms. The output directory ```output_histograms/``` is given as a parameter, as well as the luminosity to apply the weighting.\n",
    "\n",
    "<strong>Note:</strong> The set of histograms that are filled are declared in the ```include/processHandler.py``` file.\n",
    "\n",
    "<em>(This step takes ~5 minutes to run for this sample)</em>"
   ]
  },
  {
   "cell_type": "code",
   "execution_count": 7,
   "metadata": {},
   "outputs": [],
   "source": [
    "if not os.path.exists('output_histograms/'): os.makedirs('output_histograms/')"
   ]
  },
  {
   "cell_type": "code",
   "execution_count": 8,
   "metadata": {},
   "outputs": [
    {
     "name": "stdout",
     "output_type": "stream",
     "text": [
      "Reading samples: HXX_1000_150_100mm\n"
     ]
    }
   ],
   "source": [
    "treeSI.Loop(lumi, 'output_histograms/')"
   ]
  },
  {
   "cell_type": "markdown",
   "metadata": {},
   "source": [
    "Once it finishes when can check that the ```.root``` file is correctly stored in ```output_histograms/```.\n",
    "\n",
    "The ```Loop()``` function creates 1 ```.root``` file per ```.root``` file associated to each sample."
   ]
  },
  {
   "cell_type": "code",
   "execution_count": 9,
   "metadata": {},
   "outputs": [
    {
     "name": "stdout",
     "output_type": "stream",
     "text": [
      "total 232\r\n",
      "-rw-r--r--. 1 fernance 1399 237380 Dec 23 17:50 SI__HXX_1000_150_100mm__HXX_1000_150_100mm__0.root\r\n"
     ]
    }
   ],
   "source": [
    "!ls -l output_histograms/"
   ]
  },
  {
   "cell_type": "markdown",
   "metadata": {},
   "source": [
    "## 0.2 - Harvesting step\n",
    "\n",
    "Once files containing the histograms are stored we can get the ```TH1F``` objects by using the ```Tree.getLoopTH1F()``` and ```Tree.getLoopStacked()``` functions.\n",
    "\n",
    "1) ```getLoopTH1F()```: Will return a histogram by adding all the histograms (even stored in different files) relative to the samples speficied in the Tree instance.\n",
    "\n",
    "2) ```getLoopStack()```: Will return a stacked histogram by adding all the histograms (even stored in different files) in a block structure as specified in the ```.dat``` file.\n",
    "\n",
    "This two functions require the dir containing the histograms (```'output_histograms/'```) and the key name of the histogram itself (that should be the same for every sample in every ```.root``` file).\n",
    "\n",
    "In this example, we plot the mass of the MM candidates in the ```SROS``` region (check the ```include/processHandler.py``` file for the region definition), refered as ```hMMSROS_mass```.\n",
    "\n",
    "<em>(The full name of the histogram in every root file also included the sample, the block, and the original name of the tree: ```hMMSROS__SI__HXX_1000_150_100mm__HXX_1000_150_100mm__0```.)</em>"
   ]
  },
  {
   "cell_type": "code",
   "execution_count": 34,
   "metadata": {},
   "outputs": [],
   "source": [
    "histogram = treeSI.getLoopTH1F('output_histograms', 'hMMSROS_mass') # The TH1F"
   ]
  },
  {
   "cell_type": "markdown",
   "metadata": {},
   "source": [
    "The style of the histogram is tuned manually:"
   ]
  },
  {
   "cell_type": "code",
   "execution_count": 41,
   "metadata": {},
   "outputs": [],
   "source": [
    "histogram.SetMarkerStyle(20)\n",
    "histogram.SetMarkerSize(0.8)\n",
    "histogram.SetMarkerColor(r.kBlack)\n",
    "histogram.SetMaximum(100.0)\n",
    "histogram.SetMinimum(1e-5)"
   ]
  },
  {
   "cell_type": "markdown",
   "metadata": {},
   "source": [
    "The histogram is plot by using the ```Canvas``` class. The same of the plot, format and legend parameters are specified when declaring the ```Canvas``` instance. \n",
    "\n",
    "The tuned ```TH1F``` is added with the ```Canvas.addHisto()``` function, specifying the style, label, legend style, color, and the order. \n",
    "\n",
    "The image is created with the ```Canvas.save()``` function where the y-axis scale could be also specified. The ``` outputDir``` is the output directory where the png/pdf file will be stored."
   ]
  },
  {
   "cell_type": "code",
   "execution_count": 42,
   "metadata": {},
   "outputs": [
    {
     "name": "stderr",
     "output_type": "stream",
     "text": [
      "Info in <TCanvas::Print>: png file output_plot/Histogram_hMMSROS_mass.png has been created\n"
     ]
    }
   ],
   "source": [
    "plot = Canvas.Canvas('Histogram_hMMSROS_mass', 'png', 0.15, 0.79, 0.4, 0.87, 1)\n",
    "plot.addHisto(histogram, 'P', 'H#rightarrowXX: m_{H} = 1000 GeV, m_{X} = 150 GeV, c#tau = 100 mm', 'p', '', 1, 0)\n",
    "plot.save(1, 0, 1, lumi, '', outputDir = 'output_plot/')"
   ]
  },
  {
   "cell_type": "code",
   "execution_count": 43,
   "metadata": {},
   "outputs": [
    {
     "data": {
      "image/png": "[encoded data removed]",
      "text/plain": [
       "<IPython.core.display.Image object>"
      ]
     },
     "execution_count": 43,
     "metadata": {},
     "output_type": "execute_result"
    }
   ],
   "source": [
    "from IPython.display import Image\n",
    "Image(filename='output_plot/Histogram_hMMSROS_mass.png') "
   ]
  },
  {
   "cell_type": "code",
   "execution_count": null,
   "metadata": {},
   "outputs": [],
   "source": []
  }
 ],
 "metadata": {
  "kernelspec": {
   "display_name": "Python 3",
   "language": "python",
   "name": "python3"
  },
  "language_info": {
   "codemirror_mode": {
    "name": "ipython",
    "version": 3
   },
   "file_extension": ".py",
   "mimetype": "text/x-python",
   "name": "python",
   "nbconvert_exporter": "python",
   "pygments_lexer": "ipython3",
   "version": "3.7.6"
  }
 },
 "nbformat": 4,
 "nbformat_minor": 4
}
