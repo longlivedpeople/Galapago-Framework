{
 "cells": [
  {
   "cell_type": "markdown",
   "metadata": {},
   "source": [
    "# Notebook 2: Applying cuts with CutManager\n",
    "\n",
    "In this notebook there is a simple example of how Galapago applies several cuts to be evaluated when reading an event.\n",
    "\n",
    "This is usually done inside ```include/processHandler.py```. However this example is simplified with an event loop."
   ]
  },
  {
   "cell_type": "code",
   "execution_count": 1,
   "metadata": {},
   "outputs": [],
   "source": [
    "import os\n",
    "\n",
    "if 'notebooks' in os.getcwd():\n",
    "    os.chdir('..')"
   ]
  },
  {
   "cell_type": "markdown",
   "metadata": {},
   "source": [
    "## 2.0 - CutManager and cut syntax\n",
    "\n",
    "We first import everything that is needed:"
   ]
  },
  {
   "cell_type": "code",
   "execution_count": 2,
   "metadata": {},
   "outputs": [
    {
     "name": "stdout",
     "output_type": "stream",
     "text": [
      "Welcome to JupyROOT 6.20/06\n"
     ]
    }
   ],
   "source": [
    "import ROOT as r\n",
    "import include.CutManager as CutManager\n",
    "import include.Sample as Sample\n",
    "import include.helper as helper"
   ]
  },
  {
   "cell_type": "markdown",
   "metadata": {},
   "source": [
    "And we create an instance of the ```CutManager``` class:"
   ]
  },
  {
   "cell_type": "code",
   "execution_count": 3,
   "metadata": {},
   "outputs": [],
   "source": [
    "cutmanager = CutManager.CutManager()"
   ]
  },
  {
   "cell_type": "markdown",
   "metadata": {},
   "source": [
    "Cuts in CutManager are tuned to be used with Python. Each cut is basically a string variable that contains the expression that it is going to be evaluated. For evaluating each cut, we must use the python ```eval()``` function.\n",
    "\n",
    "Cuts are usually defined as atributes of the ```CutManager``` class. We take as an example the mass cut applied on MM and EE:"
   ]
  },
  {
   "cell_type": "code",
   "execution_count": 4,
   "metadata": {},
   "outputs": [
    {
     "name": "stdout",
     "output_type": "stream",
     "text": [
      "Mass cut in MM: (ev.DMDM_mass[imm] > 15)\n",
      "Mass cut in EE: (ev.EE_mass[iee] > 15)\n"
     ]
    }
   ],
   "source": [
    "print('Mass cut in MM:', cutmanager.MM_mass15)\n",
    "print('Mass cut in EE:', cutmanager.EE_mass15)"
   ]
  },
  {
   "cell_type": "markdown",
   "metadata": {},
   "source": [
    "### The syntax\n",
    "\n",
    "For the cuts to work, there are two rules that must hold:\n",
    "\n",
    "1. Every variable in the Ntuples must be accompanied with a prefix referring to the event that is evaluated. This prefix is set by default to ```'.ev'``` in ```processHandler.py```.\n",
    "\n",
    "\n",
    "2. When the cut is applied on LL candidates, which are arrays, (i.e. EE_* or DMDM_* variables) the index must be specified. ```imm``` holds for the index of the MM candidate and ```iee``` for the index of the EE candidate.\n",
    "\n",
    "\n",
    "Both ```ev```, ```imm``` and ```iee``` must be declared as python variables first. "
   ]
  },
  {
   "cell_type": "markdown",
   "metadata": {},
   "source": [
    "## 2.1 - Evaluating cuts\n",
    "\n",
    "In order to evaluate the cuts, we load the same signal sample that was used in Notebooks 0 and 1 by reading the datacard with the ```include/Sample.py``` module:"
   ]
  },
  {
   "cell_type": "code",
   "execution_count": 5,
   "metadata": {
    "scrolled": true
   },
   "outputs": [
    {
     "name": "stdout",
     "output_type": "stream",
     "text": [
      "selectSamples for  SI : List Of Samples: ['HXX_1000_150_100']\n",
      "---> Found a match for HXX_1000_150_100 : HXX_1000_150_100mm   HXX(1000,150,100) /eos/user/f/fernance/LLP_Analysis/NTuples/2016_v3/HXX_1000_150_100mm/ 0.7739 , matchesName_= False , matchesRegExp True\n",
      "######\n",
      "Tree Name:  SI\n",
      "Tree IsData:  0\n",
      "######\n",
      "This Tree contains the following Blocks\n",
      "####################\n",
      "Block Name:  HXX_1000_150_100mm\n",
      "Block Color:  632\n",
      "Block IsData:  0\n",
      "####################\n",
      "This block contains the following Samples\n",
      "#################################\n",
      "Sample Name:  HXX_1000_150_100mm\n",
      "Sample Location:  /eos/user/f/fernance/LLP_Analysis/NTuples/2016_v3/HXX_1000_150_100mm/\n",
      "Sample XSection:  0.7739\n",
      "Sample IsData:  0\n",
      "Sample LumWeight:  4.060335781741868e-06\n",
      "#################################\n",
      "Tree entries:  190600\n"
     ]
    }
   ],
   "source": [
    "# Access the Tree of one sample and print its information\n",
    "\n",
    "treeSI = Sample.Tree( fileName = helper.selectSamples('dat/Samples_cern_fillingv2.dat', ['HXX_1000_150_100'], 'SI'), name = 'SI', isdata = 0 )\n",
    "treeSI.printTree()\n",
    "\n",
    "tree_block = treeSI.blocks[0]\n",
    "tree_sample = tree_block.samples[0]\n",
    "ttree = tree_sample.ttrees[0]\n",
    "\n",
    "print(\"Tree entries: \", ttree.GetEntries())"
   ]
  },
  {
   "cell_type": "markdown",
   "metadata": {},
   "source": [
    "We loop over 10 events looking for events that have at least 1 EE or MM candidate, and we evaluate the mass cut printed before in these. \n",
    "\n",
    "<em> Each cut is evaluated as a string with ```eval()``` function </em>"
   ]
  },
  {
   "cell_type": "code",
   "execution_count": 16,
   "metadata": {},
   "outputs": [
    {
     "name": "stdout",
     "output_type": "stream",
     "text": [
      "-> Event: 0\n",
      "   Number of EEs: 1\n",
      "   Mass of the first EE: 144.19895935058594\n",
      "     Is greater than 15?  True\n",
      "   Number of MMs: 1\n",
      "   Mass of the first MM: 136.97764587402344\n",
      "     Is greater than 15?  True\n",
      "-> Event: 1\n",
      "   Number of EEs: 0 skipping...\n",
      "   Number of MMs: 0 skipping...\n",
      "-> Event: 2\n",
      "   Number of EEs: 1\n",
      "   Mass of the first EE: 151.62594604492188\n",
      "     Is greater than 15?  True\n",
      "   Number of MMs: 0 skipping...\n",
      "-> Event: 3\n",
      "   Number of EEs: 0 skipping...\n",
      "   Number of MMs: 1\n",
      "   Mass of the first MM: 158.80325317382812\n",
      "     Is greater than 15?  True\n",
      "-> Event: 4\n",
      "   Number of EEs: 0 skipping...\n",
      "   Number of MMs: 0 skipping...\n",
      "-> Event: 5\n",
      "   Number of EEs: 0 skipping...\n",
      "   Number of MMs: 2\n",
      "   Mass of the first MM: 150.95260620117188\n",
      "     Is greater than 15?  True\n",
      "-> Event: 6\n",
      "   Number of EEs: 0 skipping...\n",
      "   Number of MMs: 1\n",
      "   Mass of the first MM: 159.346923828125\n",
      "     Is greater than 15?  True\n",
      "-> Event: 7\n",
      "   Number of EEs: 0 skipping...\n",
      "   Number of MMs: 1\n",
      "   Mass of the first MM: 138.8160858154297\n",
      "     Is greater than 15?  True\n",
      "-> Event: 8\n",
      "   Number of EEs: 0 skipping...\n",
      "   Number of MMs: 0 skipping...\n",
      "-> Event: 9\n",
      "   Number of EEs: 0 skipping...\n",
      "   Number of MMs: 1\n",
      "   Mass of the first MM: 149.7556915283203\n",
      "     Is greater than 15?  True\n",
      "-> Event: 10\n",
      "   Number of EEs: 0 skipping...\n",
      "   Number of MMs: 0 skipping...\n"
     ]
    }
   ],
   "source": [
    "for n,ev in enumerate(ttree): # Looping over ev objects\n",
    "\n",
    "    if n > 10: break\n",
    "    \n",
    "    print('-> Event:', str(n))\n",
    "    \n",
    "    if eval(cutmanager.haveEE):\n",
    "        iee = 0 # EE index definition !!!\n",
    "        print('   Number of EEs:', str(ev.nEE))\n",
    "        print('   Mass of the first EE:', str(ev.EE_mass[iee]))\n",
    "        print('     Is greater than 15? ', eval(cutmanager.EE_mass15))\n",
    "    else:\n",
    "        print('   Number of EEs:', str(ev.nEE), 'skipping...')\n",
    "        \n",
    "    if eval(cutmanager.haveMM):\n",
    "        imm = 0 # MM index definition !!!\n",
    "        print('   Number of MMs:', str(ev.nDMDM))\n",
    "        print('   Mass of the first MM:', str(ev.DMDM_mass[iee]))\n",
    "        print('     Is greater than 15? ', eval(cutmanager.MM_mass15))\n",
    "    else:\n",
    "        print('   Number of MMs:', str(ev.nDMDM), 'skipping...')"
   ]
  }
 ],
 "metadata": {
  "kernelspec": {
   "display_name": "Python 3",
   "language": "python",
   "name": "python3"
  },
  "language_info": {
   "codemirror_mode": {
    "name": "ipython",
    "version": 3
   },
   "file_extension": ".py",
   "mimetype": "text/x-python",
   "name": "python",
   "nbconvert_exporter": "python",
   "pygments_lexer": "ipython3",
   "version": "3.7.6"
  }
 },
 "nbformat": 4,
 "nbformat_minor": 4
}
